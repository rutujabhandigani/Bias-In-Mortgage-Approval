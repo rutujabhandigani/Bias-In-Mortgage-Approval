{
 "cells": [
  {
   "cell_type": "code",
   "execution_count": 1,
   "id": "b4ba0270",
   "metadata": {},
   "outputs": [],
   "source": [
    "import pandas as pd\n",
    "import numpy as np"
   ]
  },
  {
   "cell_type": "code",
   "execution_count": 2,
   "id": "32587452",
   "metadata": {},
   "outputs": [],
   "source": [
    "def categorize_dti_cat(row):\n",
    "    dti = row['debt_to_income_ratio']\n",
    "    healthy = ['<20%', '20%-<30%', '30%-<36%' ]\n",
    "    manageable = ['36', '37', '38', '39', '40', '41', '42']\n",
    "    unmanageable = ['43', '44', '45', '46', '47', '48', '49']\n",
    "    struggling = ['50%-60%', '>60%']\n",
    "    if dti in healthy:\n",
    "        return '1'\n",
    "    elif dti in manageable:\n",
    "        return '2'\n",
    "    elif dti in unmanageable:\n",
    "        return '3'\n",
    "    elif dti in struggling:\n",
    "        return '4'     \n",
    "    elif dti == 'Exempt':\n",
    "        return '5'\n",
    "    elif dti == 'null':\n",
    "        return '6'    \n",
    "        \n",
    "def categorize_cltv(row):\n",
    "    cltv = row['cltv_ratio']\n",
    "    if cltv <= 80:\n",
    "        return '1'\n",
    "    elif cltv > 80:\n",
    "        return '2'       \n",
    "    else:\n",
    "        return '3'\n",
    "\n",
    "def categorize_age(row):\n",
    "    age = row['applicant_age']\n",
    "    if age == '<25':\n",
    "        return '1'\n",
    "    elif age == '25-34':\n",
    "        return '2'\n",
    "    elif age == '35-44':\n",
    "        return '3'\n",
    "    elif age == '45-54':\n",
    "        return '4'\n",
    "    elif age == '55-64':\n",
    "        return '5'\n",
    "    elif age == '65-74':\n",
    "        return '6'\n",
    "    elif age == '>74':\n",
    "        return '7'\n",
    "    elif age == '8888' or age == '9999':\n",
    "        return '8'\n",
    "    \n",
    "def categorize_sex(row):\n",
    "    sex = row['applicant_sex']\n",
    "    if sex == '1':\n",
    "        return '1'\n",
    "    elif sex == '2':\n",
    "        return '2'\n",
    "    elif sex == '3' or sex == '4':\n",
    "        return '3'\n",
    "    elif sex == '6':\n",
    "        return '4'\n",
    "        \n",
    "        \n",
    "def categorize_aus(row):\n",
    "    aus_cat = row['aus_1']\n",
    "    if aus_cat == '1':\n",
    "        return '1'\n",
    "    elif aus_cat  == '2':\n",
    "        return '2'\n",
    "    elif aus_cat == '3':\n",
    "        return '3'\n",
    "    elif aus_cat  == '4':\n",
    "        return '4'\n",
    "    elif aus_cat  == '5':\n",
    "        return '5'\n",
    "    elif aus_cat == '6' or '1111':\n",
    "        return '6'\n",
    "    \n",
    "def categorize_loan_term(row):\n",
    "    loan_term = row['em_loan_term']\n",
    "    if loan_term == 360:\n",
    "        return '1'\n",
    "    elif loan_term < 360:\n",
    "        return '2'\n",
    "    elif loan_term > 360:\n",
    "        return '3'\n",
    "    else:\n",
    "        return '4'\n",
    "        \n",
    "        \n",
    "def categorize_lmi(row):\n",
    "    tract_msa_ratio = row['tract_msa_ratio']\n",
    "    if tract_msa_ratio > 0 and tract_msa_ratio < 50:\n",
    "        return '1'\n",
    "    elif tract_msa_ratio >= 50 and tract_msa_ratio < 80:\n",
    "        return '2'\n",
    "    elif tract_msa_ratio >= 80 and tract_msa_ratio < 120:\n",
    "        return '3'\n",
    "    elif tract_msa_ratio >= 120:\n",
    "        return '4'\n",
    "    elif tract_msa_ratio == 0:\n",
    "        return '5'\n",
    "\n",
    "def categorize_race(row):\n",
    "    race = row['applicant_race_1']\n",
    "    asian = ['2.0', '21.0' , '22.0', '23.0' , '24.0' , '25.0' , '26.0' , '27.0']\n",
    "    pac = ['4.0' , '41.0' , '42.0' , '43.0' , '44.0']\n",
    "    na = ['6.0' , '7.0']\n",
    "    if race == '1.0':\n",
    "        return '1'\n",
    "    elif race in asian:\n",
    "        return '2'\n",
    "    elif race == '3.0':\n",
    "        return '3'\n",
    "    elif race in pac:\n",
    "        return '4'\n",
    "    elif race == '5.0':\n",
    "        return '5'\n",
    "    elif race in na:\n",
    "        return '6'\n",
    "\n",
    "def categorize_credit(row):\n",
    "    equifax = ['1']\n",
    "    experian = ['2']\n",
    "    transunion = ['3', '4']\n",
    "    vantage = ['5', '6']\n",
    "    more_than_one = ['7']\n",
    "    other_model = ['8']\n",
    "    credit_na = ['9', '1111']\n",
    "    credit_model = row['applicant_credit_score_type']\n",
    "    if credit_model in equifax:\n",
    "        return '1'\n",
    "    elif credit_model in experian:\n",
    "        return '2'\n",
    "    elif credit_model in transunion:\n",
    "        return '3'\n",
    "    elif credit_model in vantage:\n",
    "        return '4'\n",
    "    elif credit_model in more_than_one:\n",
    "        return '5'\n",
    "    elif credit_model in other_model:\n",
    "        return '6'\n",
    "    elif credit_model in credit_na:\n",
    "        return '7'"
   ]
  },
  {
   "cell_type": "markdown",
   "id": "bcf31a67",
   "metadata": {},
   "source": [
    "# Import Data"
   ]
  },
  {
   "cell_type": "code",
   "execution_count": 3,
   "id": "84b1d871",
   "metadata": {},
   "outputs": [
    {
     "name": "stdout",
     "output_type": "stream",
     "text": [
      "<class 'pandas.core.frame.DataFrame'>\n",
      "RangeIndex: 6000000 entries, 0 to 5999999\n",
      "Data columns (total 71 columns):\n",
      " #   Column                                    Dtype \n",
      "---  ------                                    ----- \n",
      " 0   activity_year                             object\n",
      " 1   lei                                       object\n",
      " 2   derived_msa_md                            object\n",
      " 3   state_code                                object\n",
      " 4   county_code                               object\n",
      " 5   census_tract                              object\n",
      " 6   conforming_loan_limit                     object\n",
      " 7   derived_loan_product_type                 object\n",
      " 8   derived_dwelling_category                 object\n",
      " 9   derived_ethnicity                         object\n",
      " 10  derived_race                              object\n",
      " 11  derived_sex                               object\n",
      " 12  action_taken                              object\n",
      " 13  purchaser_type                            object\n",
      " 14  preapproval                               object\n",
      " 15  loan_type                                 object\n",
      " 16  loan_purpose                              object\n",
      " 17  lien_status                               object\n",
      " 18  reverse_mortgage                          object\n",
      " 19  open_end_line_of_credit                   object\n",
      " 20  business_or_commercial_purpose            object\n",
      " 21  loan_amount                               object\n",
      " 22  combined_loan_to_value_ratio              object\n",
      " 23  interest_rate                             object\n",
      " 24  rate_spread                               object\n",
      " 25  hoepa_status                              object\n",
      " 26  total_loan_costs                          object\n",
      " 27  origination_charges                       object\n",
      " 28  discount_points                           object\n",
      " 29  loan_term                                 object\n",
      " 30  negative_amortization                     object\n",
      " 31  interest_only_payment                     object\n",
      " 32  balloon_payment                           object\n",
      " 33  other_nonamortizing_features              object\n",
      " 34  property_value                            object\n",
      " 35  construction_method                       object\n",
      " 36  occupancy_type                            object\n",
      " 37  manufactured_home_secured_property_type   object\n",
      " 38  manufactured_home_land_property_interest  object\n",
      " 39  total_units                               object\n",
      " 40  income                                    object\n",
      " 41  debt_to_income_ratio                      object\n",
      " 42  applicant_credit_score_type               object\n",
      " 43  co_applicant_credit_score_type            object\n",
      " 44  applicant_ethnicity_1                     object\n",
      " 45  co_applicant_ethnicity_1                  object\n",
      " 46  applicant_ethnicity_observed              object\n",
      " 47  co_applicant_ethnicity_observed           object\n",
      " 48  applicant_race_1                          object\n",
      " 49  co_applicant_race_1                       object\n",
      " 50  applicant_race_observed                   object\n",
      " 51  co_applicant_race_observed                object\n",
      " 52  applicant_sex                             object\n",
      " 53  co_applicant_sex                          object\n",
      " 54  applicant_sex_observed                    object\n",
      " 55  co_applicant_sex_observed                 object\n",
      " 56  applicant_age                             object\n",
      " 57  co_applicant_age                          object\n",
      " 58  applicant_age_above_62                    object\n",
      " 59  co_applicant_age_above_62                 object\n",
      " 60  submission_of_application                 object\n",
      " 61  initially_payable_to_institution          object\n",
      " 62  aus_1                                     object\n",
      " 63  denial_reason_1                           object\n",
      " 64  tract_population                          object\n",
      " 65  tract_minority_population_percent         object\n",
      " 66  ffiec_msa_md_median_family_income         object\n",
      " 67  tract_to_msa_income_percentage            object\n",
      " 68  tract_owner_occupied_units                object\n",
      " 69  tract_one_to_four_family_homes            object\n",
      " 70  tract_median_age_of_housing_units         object\n",
      "dtypes: object(71)\n",
      "memory usage: 3.2+ GB\n"
     ]
    }
   ],
   "source": [
    "clean_df = pd.read_csv(\"cleaned.csv\", dtype = str)\n",
    "clean_df.info()"
   ]
  },
  {
   "cell_type": "markdown",
   "id": "37f7f65f",
   "metadata": {},
   "source": [
    "# Categorize Debt-to-Income Ratio"
   ]
  },
  {
   "cell_type": "code",
   "execution_count": 4,
   "id": "8f8dedfd",
   "metadata": {},
   "outputs": [],
   "source": [
    "dti_df = pd.DataFrame(clean_df['debt_to_income_ratio'].value_counts(dropna = False))\n",
    "dti_df = dti_df.reset_index().rename(columns = {'index': 'debt_to_income_ratio', 'debt_to_income_ratio': 'count'})\n",
    "dti_df = dti_df.fillna('null')\n",
    "dti_df['dti_cat'] = dti_df.apply(categorize_dti_cat, axis = 1)\n",
    "dti_df = dti_df.drop(columns = ['count'], axis = 1)\n",
    "dti_df = dti_df.replace('null', np.nan)\n",
    "clean_df = pd.merge(clean_df, dti_df, how = 'left', on = ['debt_to_income_ratio'])"
   ]
  },
  {
   "cell_type": "markdown",
   "id": "3e55418e",
   "metadata": {},
   "source": [
    "Categorize Loan-to-Value Ratio"
   ]
  },
  {
   "cell_type": "code",
   "execution_count": 5,
   "id": "ccff9e32",
   "metadata": {},
   "outputs": [],
   "source": [
    "cltv_df = pd.DataFrame(clean_df['combined_loan_to_value_ratio'].value_counts(dropna = False))\n",
    "cltv_df = cltv_df.reset_index().rename(columns = {'index': 'combined_loan_to_value_ratio', 'combined_loan_to_value_ratio': 'count'})\n",
    "cltv_df.loc[(cltv_df['combined_loan_to_value_ratio'] != 'Exempt'), 'cltv_ratio'] = cltv_df['combined_loan_to_value_ratio']\n",
    "cltv_df['cltv_ratio'] = pd.to_numeric(cltv_df['cltv_ratio'])\n",
    "cltv_df['downpayment_flag'] = cltv_df.apply(categorize_cltv, axis = 1)\n",
    "cltv_df = cltv_df.drop(columns = ['count', 'cltv_ratio'], axis = 1)\n",
    "clean_df = pd.merge(clean_df, cltv_df, how = 'left', on = ['combined_loan_to_value_ratio'])"
   ]
  },
  {
   "cell_type": "markdown",
   "id": "044504b8",
   "metadata": {},
   "source": [
    "# Categorize Applicant Age"
   ]
  },
  {
   "cell_type": "code",
   "execution_count": 6,
   "id": "98633386",
   "metadata": {},
   "outputs": [],
   "source": [
    "age_df = pd.DataFrame(clean_df['applicant_age'].value_counts(dropna = False)).reset_index().rename(columns = {'index': 'applicant_age', 'applicant_age': 'count'})\n",
    "age_df['applicant_age_cat'] = age_df.apply(categorize_age, axis = 1)\n",
    "age_df = age_df.drop(columns = ['count'], axis = 1)\n",
    "clean_df = pd.merge(clean_df, age_df, how = 'left', on = ['applicant_age'])"
   ]
  },
  {
   "cell_type": "markdown",
   "id": "f90890c4",
   "metadata": {},
   "source": [
    "# Categorize Applicant Sex"
   ]
  },
  {
   "cell_type": "code",
   "execution_count": 7,
   "id": "9302e0f1",
   "metadata": {},
   "outputs": [],
   "source": [
    "sex_df = pd.DataFrame(clean_df['applicant_sex'].value_counts(dropna = False)).reset_index().rename(columns = {'index': 'applicant_sex', 'applicant_sex': 'count'})\n",
    "sex_df = sex_df.drop(columns = ['count'], axis = 1)\n",
    "sex_df['applicant_sex_cat'] = sex_df.apply(categorize_sex, axis = 1)\n",
    "clean_df = pd.merge(clean_df, sex_df, how = 'left', on = ['applicant_sex'])"
   ]
  },
  {
   "cell_type": "markdown",
   "id": "10b8dd3a",
   "metadata": {},
   "source": [
    "# Categorize Automated Underwriting Systems"
   ]
  },
  {
   "cell_type": "code",
   "execution_count": 8,
   "id": "684ffd48",
   "metadata": {},
   "outputs": [],
   "source": [
    "aus_df = pd.DataFrame(clean_df['aus_1'].value_counts(dropna = False)).reset_index().rename(columns = {'index': 'aus_1', 'aus_1': 'count'})\n",
    "aus_df = aus_df.drop(columns = ['count'], axis = 1)\n",
    "aus_df['aus_cat'] = aus_df.apply(categorize_aus, axis = 1)\n",
    "clean_df = pd.merge(clean_df, aus_df, how = 'left', on = ['aus_1'])"
   ]
  },
  {
   "cell_type": "markdown",
   "id": "a7147350",
   "metadata": {},
   "source": [
    "# Categorize Loan Term"
   ]
  },
  {
   "cell_type": "code",
   "execution_count": 9,
   "id": "9c6a6fed",
   "metadata": {},
   "outputs": [],
   "source": [
    "loanterm_df = pd.DataFrame(clean_df['loan_term'].value_counts(dropna = False)).reset_index().rename(columns = {'index': 'loan_term', 'loan_term': 'count'})\n",
    "loanterm_df.loc[(loanterm_df['loan_term'] != 'Exempt'), 'em_loan_term'] = loanterm_df['loan_term']\n",
    "loanterm_df['em_loan_term'] = pd.to_numeric(loanterm_df['em_loan_term'])\n",
    "loanterm_df['mortgage_term'] = loanterm_df.apply(categorize_loan_term, axis = 1)\n",
    "loanterm_df = loanterm_df.drop(columns = ['count', 'em_loan_term'])\n",
    "clean_df = pd.merge(clean_df, loanterm_df, how = 'left', on = ['loan_term'])"
   ]
  },
  {
   "cell_type": "markdown",
   "id": "fad6e046",
   "metadata": {},
   "source": [
    "# Categorize MSA Income Percentage"
   ]
  },
  {
   "cell_type": "code",
   "execution_count": 10,
   "id": "e16a0eed",
   "metadata": {},
   "outputs": [],
   "source": [
    "tractmsa_income_df = pd.DataFrame(clean_df['tract_to_msa_income_percentage'].value_counts(dropna = False)).reset_index().rename(columns = {'index': 'tract_to_msa_income_percentage', 'tract_to_msa_income_percentage': 'count'})\n",
    "tractmsa_income_df['tract_msa_ratio'] = pd.to_numeric(tractmsa_income_df['tract_to_msa_income_percentage'])\n",
    "tractmsa_income_df['lmi_def'] = tractmsa_income_df.apply(categorize_lmi, axis = 1)\n",
    "tractmsa_income_df = tractmsa_income_df.drop(columns = ['count', 'tract_msa_ratio'], axis = 1)\n",
    "clean_df = pd.merge(clean_df, tractmsa_income_df, how = 'left', on = ['tract_to_msa_income_percentage'])"
   ]
  },
  {
   "cell_type": "markdown",
   "id": "153288b4",
   "metadata": {},
   "source": [
    "# Categorize Applicant Race"
   ]
  },
  {
   "cell_type": "code",
   "execution_count": 11,
   "id": "31d89272",
   "metadata": {},
   "outputs": [],
   "source": [
    "race_df = pd.DataFrame(clean_df['applicant_race_1'].value_counts(dropna = False)).reset_index().rename(columns = {'index': 'applicant_race_1', 'applicant_race_1': 'count'})\n",
    "race_df['applicant_race_cat'] = race_df.apply(categorize_race, axis = 1)\n",
    "race_df = race_df.drop(columns = ['count'], axis = 1)\n",
    "clean_df = pd.merge(clean_df, race_df, how = 'left', on = ['applicant_race_1'])"
   ]
  },
  {
   "cell_type": "markdown",
   "id": "d8f61f3e",
   "metadata": {},
   "source": [
    "# Categorize Applicant Credit"
   ]
  },
  {
   "cell_type": "code",
   "execution_count": 12,
   "id": "de8bc3de",
   "metadata": {},
   "outputs": [],
   "source": [
    "credit_df = pd.DataFrame(clean_df['applicant_credit_score_type'].value_counts(dropna = False)).reset_index().rename(columns = {'index': 'applicant_credit_score_type', 'applicant_credit_score_type': 'count'})\n",
    "credit_df['applicant_credit_cat'] = credit_df.apply(categorize_credit, axis = 1)\n",
    "credit_df = credit_df.drop(columns = ['count'], axis = 1)\n",
    "clean_df = pd.merge(clean_df, credit_df, how = 'left', on = ['applicant_credit_score_type'])"
   ]
  },
  {
   "cell_type": "markdown",
   "id": "12301280",
   "metadata": {},
   "source": [
    "# Log Transformation of Income and Loan Amount"
   ]
  },
  {
   "cell_type": "code",
   "execution_count": 13,
   "id": "fe4c8685",
   "metadata": {},
   "outputs": [
    {
     "name": "stderr",
     "output_type": "stream",
     "text": [
      "/Users/rutuja/opt/anaconda3/lib/python3.9/site-packages/pandas/core/arraylike.py:397: RuntimeWarning: divide by zero encountered in log\n",
      "  result = getattr(ufunc, method)(*inputs, **kwargs)\n",
      "/Users/rutuja/opt/anaconda3/lib/python3.9/site-packages/pandas/core/arraylike.py:397: RuntimeWarning: invalid value encountered in log\n",
      "  result = getattr(ufunc, method)(*inputs, **kwargs)\n"
     ]
    }
   ],
   "source": [
    "clean_df['income'] = pd.to_numeric(clean_df['income'])\n",
    "clean_df['loan_amount'] = pd.to_numeric(clean_df['loan_amount'])\n",
    "clean_df['income_log'] = np.log(clean_df['income'])\n",
    "clean_df['loan_log'] = np.log(clean_df['loan_amount'])"
   ]
  },
  {
   "cell_type": "markdown",
   "id": "f9d2aac5",
   "metadata": {},
   "source": [
    "# Filter"
   ]
  },
  {
   "cell_type": "code",
   "execution_count": 14,
   "id": "de2c8142",
   "metadata": {},
   "outputs": [],
   "source": [
    "l = ['1', '2', '3', '4']\n",
    "clean_df = clean_df[((clean_df['loan_type'] == '1')) &\\\n",
    "                        (clean_df['income'] > 0) &\\\n",
    "                        (clean_df['occupancy_type'] == '1') &\\\n",
    "                        (clean_df['total_units'].isin(l)) &\\\n",
    "                        (clean_df['loan_purpose'] == '1') &\\\n",
    "                        ((clean_df['action_taken'] == '1')|(clean_df['action_taken'] == '3')) &\\\n",
    "                        (clean_df['construction_method'] == '1') &\\\n",
    "                        (clean_df['lien_status'] == '1') &\\\n",
    "                        (clean_df['business_or_commercial_purpose'] != '1') &\\\n",
    "                        ((clean_df['dti_cat'] == '1')|(clean_df['dti_cat'] == '2')|(clean_df['dti_cat'] == '3')|(clean_df['dti_cat'] == '4')) &\\\n",
    "                        (clean_df['downpayment_flag'] != '3') &\\\n",
    "                        (clean_df['applicant_age_cat'] != '8') &\\\n",
    "                        ((clean_df['applicant_sex_cat'] == '1')|(clean_df['applicant_sex_cat'] == '2')) &\\\n",
    "                        ((clean_df['aus_cat'] != '5')|(clean_df['aus_cat'] != '6')) &\\\n",
    "                        (clean_df['mortgage_term'] != '4') &\\\n",
    "                        (clean_df['applicant_age_cat'] != '8') &\\\n",
    "                        ((clean_df['applicant_race_cat'] == '1')|(clean_df['applicant_race_cat'] == '2')|(clean_df['applicant_race_cat'] == '3')|(clean_df['applicant_race_cat'] == '4')|(clean_df['applicant_race_cat'] == '5'))].copy()"
   ]
  },
  {
   "cell_type": "markdown",
   "id": "a0d4232c",
   "metadata": {},
   "source": [
    "# Write to CSV"
   ]
  },
  {
   "cell_type": "code",
   "execution_count": 15,
   "id": "24c916c2",
   "metadata": {},
   "outputs": [
    {
     "name": "stdout",
     "output_type": "stream",
     "text": [
      "<class 'pandas.core.frame.DataFrame'>\n",
      "Int64Index: 659889 entries, 24 to 5999974\n",
      "Data columns (total 82 columns):\n",
      " #   Column                                    Non-Null Count   Dtype  \n",
      "---  ------                                    --------------   -----  \n",
      " 0   activity_year                             659889 non-null  object \n",
      " 1   lei                                       659889 non-null  object \n",
      " 2   derived_msa_md                            659889 non-null  object \n",
      " 3   state_code                                656025 non-null  object \n",
      " 4   county_code                               655570 non-null  object \n",
      " 5   census_tract                              655288 non-null  object \n",
      " 6   conforming_loan_limit                     659889 non-null  object \n",
      " 7   derived_loan_product_type                 659889 non-null  object \n",
      " 8   derived_dwelling_category                 659889 non-null  object \n",
      " 9   derived_ethnicity                         659889 non-null  object \n",
      " 10  derived_race                              659889 non-null  object \n",
      " 11  derived_sex                               659889 non-null  object \n",
      " 12  action_taken                              659889 non-null  object \n",
      " 13  purchaser_type                            659889 non-null  object \n",
      " 14  preapproval                               659889 non-null  object \n",
      " 15  loan_type                                 659889 non-null  object \n",
      " 16  loan_purpose                              659889 non-null  object \n",
      " 17  lien_status                               659889 non-null  object \n",
      " 18  reverse_mortgage                          659889 non-null  object \n",
      " 19  open_end_line_of_credit                   659889 non-null  object \n",
      " 20  business_or_commercial_purpose            659889 non-null  object \n",
      " 21  loan_amount                               659889 non-null  int64  \n",
      " 22  combined_loan_to_value_ratio              659889 non-null  object \n",
      " 23  interest_rate                             610515 non-null  object \n",
      " 24  rate_spread                               603961 non-null  object \n",
      " 25  hoepa_status                              659889 non-null  object \n",
      " 26  total_loan_costs                          602007 non-null  object \n",
      " 27  origination_charges                       605488 non-null  object \n",
      " 28  discount_points                           175944 non-null  object \n",
      " 29  loan_term                                 659889 non-null  object \n",
      " 30  negative_amortization                     659889 non-null  object \n",
      " 31  interest_only_payment                     659889 non-null  object \n",
      " 32  balloon_payment                           659889 non-null  object \n",
      " 33  other_nonamortizing_features              659889 non-null  object \n",
      " 34  property_value                            658585 non-null  object \n",
      " 35  construction_method                       659889 non-null  object \n",
      " 36  occupancy_type                            659889 non-null  object \n",
      " 37  manufactured_home_secured_property_type   659889 non-null  object \n",
      " 38  manufactured_home_land_property_interest  659889 non-null  object \n",
      " 39  total_units                               659889 non-null  object \n",
      " 40  income                                    659889 non-null  float64\n",
      " 41  debt_to_income_ratio                      659889 non-null  object \n",
      " 42  applicant_credit_score_type               659889 non-null  object \n",
      " 43  co_applicant_credit_score_type            659889 non-null  object \n",
      " 44  applicant_ethnicity_1                     659809 non-null  object \n",
      " 45  co_applicant_ethnicity_1                  659871 non-null  object \n",
      " 46  applicant_ethnicity_observed              659889 non-null  object \n",
      " 47  co_applicant_ethnicity_observed           659889 non-null  object \n",
      " 48  applicant_race_1                          659889 non-null  object \n",
      " 49  co_applicant_race_1                       659875 non-null  object \n",
      " 50  applicant_race_observed                   659889 non-null  object \n",
      " 51  co_applicant_race_observed                659889 non-null  object \n",
      " 52  applicant_sex                             659889 non-null  object \n",
      " 53  co_applicant_sex                          659889 non-null  object \n",
      " 54  applicant_sex_observed                    659889 non-null  object \n",
      " 55  co_applicant_sex_observed                 659889 non-null  object \n",
      " 56  applicant_age                             659889 non-null  object \n",
      " 57  co_applicant_age                          659889 non-null  object \n",
      " 58  applicant_age_above_62                    659889 non-null  object \n",
      " 59  co_applicant_age_above_62                 301568 non-null  object \n",
      " 60  submission_of_application                 659889 non-null  object \n",
      " 61  initially_payable_to_institution          659889 non-null  object \n",
      " 62  aus_1                                     659889 non-null  object \n",
      " 63  denial_reason_1                           659889 non-null  object \n",
      " 64  tract_population                          659889 non-null  object \n",
      " 65  tract_minority_population_percent         659889 non-null  object \n",
      " 66  ffiec_msa_md_median_family_income         659889 non-null  object \n",
      " 67  tract_to_msa_income_percentage            659889 non-null  object \n",
      " 68  tract_owner_occupied_units                659889 non-null  object \n",
      " 69  tract_one_to_four_family_homes            659889 non-null  object \n",
      " 70  tract_median_age_of_housing_units         659889 non-null  object \n",
      " 71  dti_cat                                   659889 non-null  object \n",
      " 72  downpayment_flag                          659889 non-null  object \n",
      " 73  applicant_age_cat                         659889 non-null  object \n",
      " 74  applicant_sex_cat                         659889 non-null  object \n",
      " 75  aus_cat                                   659889 non-null  object \n",
      " 76  mortgage_term                             659889 non-null  object \n",
      " 77  lmi_def                                   659889 non-null  object \n",
      " 78  applicant_race_cat                        659889 non-null  object \n",
      " 79  applicant_credit_cat                      659889 non-null  object \n",
      " 80  income_log                                659889 non-null  float64\n",
      " 81  loan_log                                  659889 non-null  float64\n",
      "dtypes: float64(3), int64(1), object(78)\n",
      "memory usage: 417.9+ MB\n"
     ]
    }
   ],
   "source": [
    "clean_df.info()"
   ]
  },
  {
   "cell_type": "code",
   "execution_count": 16,
   "id": "5298310b",
   "metadata": {},
   "outputs": [],
   "source": [
    "clean_df.to_csv('categorized_data.csv', index = False)"
   ]
  },
  {
   "cell_type": "code",
   "execution_count": null,
   "id": "eca7e4a4",
   "metadata": {},
   "outputs": [],
   "source": []
  }
 ],
 "metadata": {
  "kernelspec": {
   "display_name": "Python 3 (ipykernel)",
   "language": "python",
   "name": "python3"
  },
  "language_info": {
   "codemirror_mode": {
    "name": "ipython",
    "version": 3
   },
   "file_extension": ".py",
   "mimetype": "text/x-python",
   "name": "python",
   "nbconvert_exporter": "python",
   "pygments_lexer": "ipython3",
   "version": "3.9.13"
  }
 },
 "nbformat": 4,
 "nbformat_minor": 5
}
