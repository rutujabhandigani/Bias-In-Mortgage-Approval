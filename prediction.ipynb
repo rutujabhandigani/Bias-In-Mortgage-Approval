{
 "cells": [
  {
   "cell_type": "code",
   "execution_count": 6,
   "id": "613cd080",
   "metadata": {},
   "outputs": [],
   "source": [
    "import pandas as pd\n",
    "data = pd.read_csv('regression_data.csv', low_memory=False)"
   ]
  },
  {
   "cell_type": "code",
   "execution_count": 7,
   "id": "3e78709a",
   "metadata": {},
   "outputs": [
    {
     "data": {
      "text/html": [
       "<div>\n",
       "<style scoped>\n",
       "    .dataframe tbody tr th:only-of-type {\n",
       "        vertical-align: middle;\n",
       "    }\n",
       "\n",
       "    .dataframe tbody tr th {\n",
       "        vertical-align: top;\n",
       "    }\n",
       "\n",
       "    .dataframe thead th {\n",
       "        text-align: right;\n",
       "    }\n",
       "</style>\n",
       "<table border=\"1\" class=\"dataframe\">\n",
       "  <thead>\n",
       "    <tr style=\"text-align: right;\">\n",
       "      <th></th>\n",
       "      <th>activity_year</th>\n",
       "      <th>lei</th>\n",
       "      <th>derived_msa_md</th>\n",
       "      <th>state_code</th>\n",
       "      <th>county_code</th>\n",
       "      <th>census_tract</th>\n",
       "      <th>conforming_loan_limit</th>\n",
       "      <th>derived_loan_product_type</th>\n",
       "      <th>derived_dwelling_category</th>\n",
       "      <th>derived_ethnicity</th>\n",
       "      <th>...</th>\n",
       "      <th>model_na</th>\n",
       "      <th>dti_manageable</th>\n",
       "      <th>dti_unmanageable</th>\n",
       "      <th>dti_struggling</th>\n",
       "      <th>less20pct_downpayment</th>\n",
       "      <th>low_lmi</th>\n",
       "      <th>moderate_lmi</th>\n",
       "      <th>middle_lmi</th>\n",
       "      <th>na_lmi</th>\n",
       "      <th>non_desktop</th>\n",
       "    </tr>\n",
       "  </thead>\n",
       "  <tbody>\n",
       "    <tr>\n",
       "      <th>0</th>\n",
       "      <td>2020</td>\n",
       "      <td>549300EOHSB7M6IFW844</td>\n",
       "      <td>19660</td>\n",
       "      <td>FL</td>\n",
       "      <td>12127.0</td>\n",
       "      <td>1.212709e+10</td>\n",
       "      <td>C</td>\n",
       "      <td>Conventional:First Lien</td>\n",
       "      <td>Single Family (1-4 Units):Site-Built</td>\n",
       "      <td>Not Hispanic or Latino</td>\n",
       "      <td>...</td>\n",
       "      <td>1.0</td>\n",
       "      <td>1.0</td>\n",
       "      <td>0.0</td>\n",
       "      <td>1.0</td>\n",
       "      <td>1.0</td>\n",
       "      <td>1.0</td>\n",
       "      <td>1.0</td>\n",
       "      <td>0.0</td>\n",
       "      <td>1.0</td>\n",
       "      <td>0.0</td>\n",
       "    </tr>\n",
       "    <tr>\n",
       "      <th>1</th>\n",
       "      <td>2020</td>\n",
       "      <td>549300EOHSB7M6IFW844</td>\n",
       "      <td>36740</td>\n",
       "      <td>FL</td>\n",
       "      <td>12117.0</td>\n",
       "      <td>1.211702e+10</td>\n",
       "      <td>C</td>\n",
       "      <td>Conventional:First Lien</td>\n",
       "      <td>Single Family (1-4 Units):Site-Built</td>\n",
       "      <td>Hispanic or Latino</td>\n",
       "      <td>...</td>\n",
       "      <td>1.0</td>\n",
       "      <td>1.0</td>\n",
       "      <td>0.0</td>\n",
       "      <td>1.0</td>\n",
       "      <td>0.0</td>\n",
       "      <td>1.0</td>\n",
       "      <td>0.0</td>\n",
       "      <td>1.0</td>\n",
       "      <td>1.0</td>\n",
       "      <td>0.0</td>\n",
       "    </tr>\n",
       "    <tr>\n",
       "      <th>2</th>\n",
       "      <td>2020</td>\n",
       "      <td>549300EOHSB7M6IFW844</td>\n",
       "      <td>23540</td>\n",
       "      <td>FL</td>\n",
       "      <td>12001.0</td>\n",
       "      <td>1.200100e+10</td>\n",
       "      <td>C</td>\n",
       "      <td>Conventional:First Lien</td>\n",
       "      <td>Single Family (1-4 Units):Site-Built</td>\n",
       "      <td>Not Hispanic or Latino</td>\n",
       "      <td>...</td>\n",
       "      <td>1.0</td>\n",
       "      <td>0.0</td>\n",
       "      <td>1.0</td>\n",
       "      <td>1.0</td>\n",
       "      <td>1.0</td>\n",
       "      <td>1.0</td>\n",
       "      <td>1.0</td>\n",
       "      <td>0.0</td>\n",
       "      <td>1.0</td>\n",
       "      <td>0.0</td>\n",
       "    </tr>\n",
       "    <tr>\n",
       "      <th>3</th>\n",
       "      <td>2020</td>\n",
       "      <td>549300EOHSB7M6IFW844</td>\n",
       "      <td>19660</td>\n",
       "      <td>FL</td>\n",
       "      <td>12035.0</td>\n",
       "      <td>1.203506e+10</td>\n",
       "      <td>C</td>\n",
       "      <td>Conventional:First Lien</td>\n",
       "      <td>Single Family (1-4 Units):Site-Built</td>\n",
       "      <td>Not Hispanic or Latino</td>\n",
       "      <td>...</td>\n",
       "      <td>1.0</td>\n",
       "      <td>0.0</td>\n",
       "      <td>1.0</td>\n",
       "      <td>1.0</td>\n",
       "      <td>1.0</td>\n",
       "      <td>1.0</td>\n",
       "      <td>1.0</td>\n",
       "      <td>0.0</td>\n",
       "      <td>1.0</td>\n",
       "      <td>1.0</td>\n",
       "    </tr>\n",
       "    <tr>\n",
       "      <th>4</th>\n",
       "      <td>2020</td>\n",
       "      <td>549300EOHSB7M6IFW844</td>\n",
       "      <td>15980</td>\n",
       "      <td>FL</td>\n",
       "      <td>12071.0</td>\n",
       "      <td>1.207104e+10</td>\n",
       "      <td>C</td>\n",
       "      <td>Conventional:First Lien</td>\n",
       "      <td>Single Family (1-4 Units):Site-Built</td>\n",
       "      <td>Not Hispanic or Latino</td>\n",
       "      <td>...</td>\n",
       "      <td>1.0</td>\n",
       "      <td>1.0</td>\n",
       "      <td>0.0</td>\n",
       "      <td>1.0</td>\n",
       "      <td>1.0</td>\n",
       "      <td>1.0</td>\n",
       "      <td>0.0</td>\n",
       "      <td>1.0</td>\n",
       "      <td>1.0</td>\n",
       "      <td>0.0</td>\n",
       "    </tr>\n",
       "  </tbody>\n",
       "</table>\n",
       "<p>5 rows × 110 columns</p>\n",
       "</div>"
      ],
      "text/plain": [
       "   activity_year                   lei  derived_msa_md state_code  \\\n",
       "0           2020  549300EOHSB7M6IFW844           19660         FL   \n",
       "1           2020  549300EOHSB7M6IFW844           36740         FL   \n",
       "2           2020  549300EOHSB7M6IFW844           23540         FL   \n",
       "3           2020  549300EOHSB7M6IFW844           19660         FL   \n",
       "4           2020  549300EOHSB7M6IFW844           15980         FL   \n",
       "\n",
       "   county_code  census_tract conforming_loan_limit derived_loan_product_type  \\\n",
       "0      12127.0  1.212709e+10                     C   Conventional:First Lien   \n",
       "1      12117.0  1.211702e+10                     C   Conventional:First Lien   \n",
       "2      12001.0  1.200100e+10                     C   Conventional:First Lien   \n",
       "3      12035.0  1.203506e+10                     C   Conventional:First Lien   \n",
       "4      12071.0  1.207104e+10                     C   Conventional:First Lien   \n",
       "\n",
       "              derived_dwelling_category       derived_ethnicity  ... model_na  \\\n",
       "0  Single Family (1-4 Units):Site-Built  Not Hispanic or Latino  ...      1.0   \n",
       "1  Single Family (1-4 Units):Site-Built      Hispanic or Latino  ...      1.0   \n",
       "2  Single Family (1-4 Units):Site-Built  Not Hispanic or Latino  ...      1.0   \n",
       "3  Single Family (1-4 Units):Site-Built  Not Hispanic or Latino  ...      1.0   \n",
       "4  Single Family (1-4 Units):Site-Built  Not Hispanic or Latino  ...      1.0   \n",
       "\n",
       "  dti_manageable  dti_unmanageable  dti_struggling  less20pct_downpayment  \\\n",
       "0            1.0               0.0             1.0                    1.0   \n",
       "1            1.0               0.0             1.0                    0.0   \n",
       "2            0.0               1.0             1.0                    1.0   \n",
       "3            0.0               1.0             1.0                    1.0   \n",
       "4            1.0               0.0             1.0                    1.0   \n",
       "\n",
       "   low_lmi  moderate_lmi  middle_lmi  na_lmi  non_desktop  \n",
       "0      1.0           1.0         0.0     1.0          0.0  \n",
       "1      1.0           0.0         1.0     1.0          0.0  \n",
       "2      1.0           1.0         0.0     1.0          0.0  \n",
       "3      1.0           1.0         0.0     1.0          1.0  \n",
       "4      1.0           0.0         1.0     1.0          0.0  \n",
       "\n",
       "[5 rows x 110 columns]"
      ]
     },
     "execution_count": 7,
     "metadata": {},
     "output_type": "execute_result"
    }
   ],
   "source": [
    "data.head()"
   ]
  },
  {
   "cell_type": "code",
   "execution_count": 8,
   "id": "53a1f4c7",
   "metadata": {},
   "outputs": [
    {
     "name": "stdout",
     "output_type": "stream",
     "text": [
      "<class 'pandas.core.frame.DataFrame'>\n",
      "RangeIndex: 659889 entries, 0 to 659888\n",
      "Columns: 110 entries, activity_year to non_desktop\n",
      "dtypes: float64(44), int64(51), object(15)\n",
      "memory usage: 553.8+ MB\n"
     ]
    }
   ],
   "source": [
    "data.info()"
   ]
  },
  {
   "cell_type": "markdown",
   "id": "56c0cf9f",
   "metadata": {},
   "source": [
    "# Focus On Dummy Variables"
   ]
  },
  {
   "cell_type": "code",
   "execution_count": 12,
   "id": "3bbad5f6",
   "metadata": {},
   "outputs": [],
   "source": [
    "df = data.iloc[:,82: ]"
   ]
  },
  {
   "cell_type": "code",
   "execution_count": 13,
   "id": "8ffed282",
   "metadata": {},
   "outputs": [
    {
     "data": {
      "text/html": [
       "<div>\n",
       "<style scoped>\n",
       "    .dataframe tbody tr th:only-of-type {\n",
       "        vertical-align: middle;\n",
       "    }\n",
       "\n",
       "    .dataframe tbody tr th {\n",
       "        vertical-align: top;\n",
       "    }\n",
       "\n",
       "    .dataframe thead th {\n",
       "        text-align: right;\n",
       "    }\n",
       "</style>\n",
       "<table border=\"1\" class=\"dataframe\">\n",
       "  <thead>\n",
       "    <tr style=\"text-align: right;\">\n",
       "      <th></th>\n",
       "      <th>denied</th>\n",
       "      <th>native</th>\n",
       "      <th>asian</th>\n",
       "      <th>black</th>\n",
       "      <th>pac_islander</th>\n",
       "      <th>female</th>\n",
       "      <th>less_than25</th>\n",
       "      <th>between25_34</th>\n",
       "      <th>between45_54</th>\n",
       "      <th>between55_64</th>\n",
       "      <th>...</th>\n",
       "      <th>model_na</th>\n",
       "      <th>dti_manageable</th>\n",
       "      <th>dti_unmanageable</th>\n",
       "      <th>dti_struggling</th>\n",
       "      <th>less20pct_downpayment</th>\n",
       "      <th>low_lmi</th>\n",
       "      <th>moderate_lmi</th>\n",
       "      <th>middle_lmi</th>\n",
       "      <th>na_lmi</th>\n",
       "      <th>non_desktop</th>\n",
       "    </tr>\n",
       "  </thead>\n",
       "  <tbody>\n",
       "    <tr>\n",
       "      <th>0</th>\n",
       "      <td>1.0</td>\n",
       "      <td>1.0</td>\n",
       "      <td>1.0</td>\n",
       "      <td>1.0</td>\n",
       "      <td>1.0</td>\n",
       "      <td>0.0</td>\n",
       "      <td>1.0</td>\n",
       "      <td>1.0</td>\n",
       "      <td>1.0</td>\n",
       "      <td>0.0</td>\n",
       "      <td>...</td>\n",
       "      <td>1.0</td>\n",
       "      <td>1.0</td>\n",
       "      <td>0.0</td>\n",
       "      <td>1.0</td>\n",
       "      <td>1.0</td>\n",
       "      <td>1.0</td>\n",
       "      <td>1.0</td>\n",
       "      <td>0.0</td>\n",
       "      <td>1.0</td>\n",
       "      <td>0.0</td>\n",
       "    </tr>\n",
       "    <tr>\n",
       "      <th>1</th>\n",
       "      <td>1.0</td>\n",
       "      <td>1.0</td>\n",
       "      <td>1.0</td>\n",
       "      <td>1.0</td>\n",
       "      <td>1.0</td>\n",
       "      <td>0.0</td>\n",
       "      <td>0.0</td>\n",
       "      <td>1.0</td>\n",
       "      <td>1.0</td>\n",
       "      <td>1.0</td>\n",
       "      <td>...</td>\n",
       "      <td>1.0</td>\n",
       "      <td>1.0</td>\n",
       "      <td>0.0</td>\n",
       "      <td>1.0</td>\n",
       "      <td>0.0</td>\n",
       "      <td>1.0</td>\n",
       "      <td>0.0</td>\n",
       "      <td>1.0</td>\n",
       "      <td>1.0</td>\n",
       "      <td>0.0</td>\n",
       "    </tr>\n",
       "    <tr>\n",
       "      <th>2</th>\n",
       "      <td>1.0</td>\n",
       "      <td>1.0</td>\n",
       "      <td>1.0</td>\n",
       "      <td>1.0</td>\n",
       "      <td>1.0</td>\n",
       "      <td>0.0</td>\n",
       "      <td>1.0</td>\n",
       "      <td>1.0</td>\n",
       "      <td>1.0</td>\n",
       "      <td>0.0</td>\n",
       "      <td>...</td>\n",
       "      <td>1.0</td>\n",
       "      <td>0.0</td>\n",
       "      <td>1.0</td>\n",
       "      <td>1.0</td>\n",
       "      <td>1.0</td>\n",
       "      <td>1.0</td>\n",
       "      <td>1.0</td>\n",
       "      <td>0.0</td>\n",
       "      <td>1.0</td>\n",
       "      <td>0.0</td>\n",
       "    </tr>\n",
       "    <tr>\n",
       "      <th>3</th>\n",
       "      <td>1.0</td>\n",
       "      <td>1.0</td>\n",
       "      <td>1.0</td>\n",
       "      <td>1.0</td>\n",
       "      <td>1.0</td>\n",
       "      <td>0.0</td>\n",
       "      <td>1.0</td>\n",
       "      <td>1.0</td>\n",
       "      <td>1.0</td>\n",
       "      <td>0.0</td>\n",
       "      <td>...</td>\n",
       "      <td>1.0</td>\n",
       "      <td>0.0</td>\n",
       "      <td>1.0</td>\n",
       "      <td>1.0</td>\n",
       "      <td>1.0</td>\n",
       "      <td>1.0</td>\n",
       "      <td>1.0</td>\n",
       "      <td>0.0</td>\n",
       "      <td>1.0</td>\n",
       "      <td>1.0</td>\n",
       "    </tr>\n",
       "    <tr>\n",
       "      <th>4</th>\n",
       "      <td>1.0</td>\n",
       "      <td>1.0</td>\n",
       "      <td>0.0</td>\n",
       "      <td>1.0</td>\n",
       "      <td>1.0</td>\n",
       "      <td>0.0</td>\n",
       "      <td>1.0</td>\n",
       "      <td>1.0</td>\n",
       "      <td>1.0</td>\n",
       "      <td>1.0</td>\n",
       "      <td>...</td>\n",
       "      <td>1.0</td>\n",
       "      <td>1.0</td>\n",
       "      <td>0.0</td>\n",
       "      <td>1.0</td>\n",
       "      <td>1.0</td>\n",
       "      <td>1.0</td>\n",
       "      <td>0.0</td>\n",
       "      <td>1.0</td>\n",
       "      <td>1.0</td>\n",
       "      <td>0.0</td>\n",
       "    </tr>\n",
       "  </tbody>\n",
       "</table>\n",
       "<p>5 rows × 28 columns</p>\n",
       "</div>"
      ],
      "text/plain": [
       "   denied  native  asian  black  pac_islander  female  less_than25  \\\n",
       "0     1.0     1.0    1.0    1.0           1.0     0.0          1.0   \n",
       "1     1.0     1.0    1.0    1.0           1.0     0.0          0.0   \n",
       "2     1.0     1.0    1.0    1.0           1.0     0.0          1.0   \n",
       "3     1.0     1.0    1.0    1.0           1.0     0.0          1.0   \n",
       "4     1.0     1.0    0.0    1.0           1.0     0.0          1.0   \n",
       "\n",
       "   between25_34  between45_54  between55_64  ...  model_na  dti_manageable  \\\n",
       "0           1.0           1.0           0.0  ...       1.0             1.0   \n",
       "1           1.0           1.0           1.0  ...       1.0             1.0   \n",
       "2           1.0           1.0           0.0  ...       1.0             0.0   \n",
       "3           1.0           1.0           0.0  ...       1.0             0.0   \n",
       "4           1.0           1.0           1.0  ...       1.0             1.0   \n",
       "\n",
       "   dti_unmanageable  dti_struggling  less20pct_downpayment  low_lmi  \\\n",
       "0               0.0             1.0                    1.0      1.0   \n",
       "1               0.0             1.0                    0.0      1.0   \n",
       "2               1.0             1.0                    1.0      1.0   \n",
       "3               1.0             1.0                    1.0      1.0   \n",
       "4               0.0             1.0                    1.0      1.0   \n",
       "\n",
       "   moderate_lmi  middle_lmi  na_lmi  non_desktop  \n",
       "0           1.0         0.0     1.0          0.0  \n",
       "1           0.0         1.0     1.0          0.0  \n",
       "2           1.0         0.0     1.0          0.0  \n",
       "3           1.0         0.0     1.0          1.0  \n",
       "4           0.0         1.0     1.0          0.0  \n",
       "\n",
       "[5 rows x 28 columns]"
      ]
     },
     "execution_count": 13,
     "metadata": {},
     "output_type": "execute_result"
    }
   ],
   "source": [
    "df.head()"
   ]
  },
  {
   "cell_type": "code",
   "execution_count": 78,
   "id": "e09845eb",
   "metadata": {},
   "outputs": [
    {
     "name": "stdout",
     "output_type": "stream",
     "text": [
      "<class 'pandas.core.frame.DataFrame'>\n",
      "RangeIndex: 659889 entries, 0 to 659888\n",
      "Data columns (total 28 columns):\n",
      " #   Column                 Non-Null Count   Dtype  \n",
      "---  ------                 --------------   -----  \n",
      " 0   denied                 659889 non-null  float64\n",
      " 1   native                 659889 non-null  float64\n",
      " 2   asian                  659889 non-null  float64\n",
      " 3   black                  659889 non-null  float64\n",
      " 4   pac_islander           659889 non-null  float64\n",
      " 5   female                 659889 non-null  float64\n",
      " 6   less_than25            659889 non-null  float64\n",
      " 7   between25_34           659889 non-null  float64\n",
      " 8   between45_54           659889 non-null  float64\n",
      " 9   between55_64           659889 non-null  float64\n",
      " 10  between65_74           659889 non-null  float64\n",
      " 11  greater74              659889 non-null  float64\n",
      " 12  less30yrs_mortgage     659889 non-null  float64\n",
      " 13  more30yrs_mortgage     659889 non-null  float64\n",
      " 14  equifax                659889 non-null  float64\n",
      " 15  experian               659889 non-null  float64\n",
      " 16  other_model            659889 non-null  float64\n",
      " 17  more_than_one          659889 non-null  float64\n",
      " 18  model_na               659889 non-null  float64\n",
      " 19  dti_manageable         659889 non-null  float64\n",
      " 20  dti_unmanageable       659889 non-null  float64\n",
      " 21  dti_struggling         659889 non-null  float64\n",
      " 22  less20pct_downpayment  659889 non-null  float64\n",
      " 23  low_lmi                659889 non-null  float64\n",
      " 24  moderate_lmi           659889 non-null  float64\n",
      " 25  middle_lmi             659889 non-null  float64\n",
      " 26  na_lmi                 659889 non-null  float64\n",
      " 27  non_desktop            659889 non-null  float64\n",
      "dtypes: float64(28)\n",
      "memory usage: 141.0 MB\n"
     ]
    }
   ],
   "source": [
    "df.info()"
   ]
  },
  {
   "cell_type": "markdown",
   "id": "dde07653",
   "metadata": {},
   "source": [
    "# Linear Regression"
   ]
  },
  {
   "cell_type": "code",
   "execution_count": 19,
   "id": "38684ef3",
   "metadata": {},
   "outputs": [],
   "source": [
    "import numpy as np\n",
    "from sklearn.linear_model import LinearRegression\n",
    "from sklearn.metrics import mean_squared_error\n",
    "from sklearn.model_selection import train_test_split\n",
    "X = np.array(df.iloc[:, 1:])\n",
    "y = np.array(df.iloc[:, 0])\n",
    "X_train, X_test, y_train, y_test = train_test_split(X, y, test_size=0.33, random_state=42)"
   ]
  },
  {
   "cell_type": "code",
   "execution_count": 22,
   "id": "458e7be1",
   "metadata": {},
   "outputs": [
    {
     "name": "stdout",
     "output_type": "stream",
     "text": [
      "0.050770405808453566\n"
     ]
    }
   ],
   "source": [
    "LR = LinearRegression().fit(X_train, y_train)\n",
    "y_pred_LR = LR.predict(X_test)\n",
    "print(mean_squared_error(y_test, y_pred_LR))"
   ]
  },
  {
   "cell_type": "code",
   "execution_count": 23,
   "id": "c8fc0db5",
   "metadata": {},
   "outputs": [
    {
     "data": {
      "text/plain": [
       "array([ 3.79871225e-02,  2.08693009e-02,  5.30776260e-02,  5.77684451e-02,\n",
       "       -1.79086001e-03,  1.74352944e-03, -1.18104856e-02,  7.45343523e-03,\n",
       "        2.21938044e-03, -8.73261655e-03, -5.50608077e-03,  1.06252104e-02,\n",
       "        5.21799333e-02, -3.46012836e-04,  3.34393122e-03,  3.98460882e-02,\n",
       "       -2.17678094e-02,  2.03124620e-02, -2.82847409e-03,  1.69139380e-02,\n",
       "        6.90413127e-01,  1.97003525e-02,  4.36775563e-02,  2.66081923e-02,\n",
       "        1.00279284e-02,  4.89038910e-01, -2.36079223e-02])"
      ]
     },
     "execution_count": 23,
     "metadata": {},
     "output_type": "execute_result"
    }
   ],
   "source": [
    "LR.coef_#denied 1:approve; asian 0 #race > sex"
   ]
  },
  {
   "cell_type": "code",
   "execution_count": 124,
   "id": "7c5206d5",
   "metadata": {},
   "outputs": [
    {
     "name": "stdout",
     "output_type": "stream",
     "text": [
      "0.2253228923311024\n"
     ]
    }
   ],
   "source": [
    "print(mean_squared_error(y_test, y_pred_LR, squared=False))"
   ]
  },
  {
   "cell_type": "code",
   "execution_count": 97,
   "id": "405e51a3",
   "metadata": {},
   "outputs": [
    {
     "name": "stdout",
     "output_type": "stream",
     "text": [
      "0.04802974002343097\n"
     ]
    }
   ],
   "source": [
    "from sklearn.metrics import median_absolute_error\n",
    "print(median_absolute_error(y_pred_LR,y_test))"
   ]
  },
  {
   "cell_type": "markdown",
   "id": "a41e0fb3",
   "metadata": {},
   "source": [
    "# LinearSVR"
   ]
  },
  {
   "cell_type": "code",
   "execution_count": 24,
   "id": "cb6ed036",
   "metadata": {},
   "outputs": [
    {
     "name": "stdout",
     "output_type": "stream",
     "text": [
      "0.05760823643873967\n"
     ]
    }
   ],
   "source": [
    "from sklearn.svm import LinearSVR\n",
    "from sklearn.pipeline import make_pipeline\n",
    "from sklearn.preprocessing import StandardScaler\n",
    "LSVR = make_pipeline(StandardScaler(),LinearSVR(random_state=0, tol=1e-5))\n",
    "LSVR.fit(X_train, y_train)\n",
    "y_pred_LSVR = LSVR.predict(X_test)\n",
    "print(mean_squared_error(y_test, y_pred_LSVR))"
   ]
  },
  {
   "cell_type": "code",
   "execution_count": 26,
   "id": "027d8c10",
   "metadata": {},
   "outputs": [
    {
     "data": {
      "text/plain": [
       "array([ 5.29091485e-12,  3.15465164e-12, -1.67758652e-12,  1.63269761e-11,\n",
       "        8.23653067e-13,  4.94789165e-13,  2.64432330e-12,  2.82824042e-12,\n",
       "       -1.94623016e-12,  2.08341062e-12,  4.68708853e-12,  1.79321856e-12,\n",
       "        5.94467353e-12, -3.48850719e-13, -3.59295480e-14,  4.39333333e-12,\n",
       "       -3.96705770e-12,  2.91554091e-12,  4.98263907e-13,  4.87665459e-13,\n",
       "        1.71440107e-01,  7.31162412e-13, -5.01099546e-13,  1.11511184e-13,\n",
       "       -4.94896654e-13,  5.50273611e-13,  7.33848055e-13])"
      ]
     },
     "execution_count": 26,
     "metadata": {},
     "output_type": "execute_result"
    }
   ],
   "source": [
    "LSVR.named_steps['linearsvr'].coef_"
   ]
  },
  {
   "cell_type": "code",
   "execution_count": 125,
   "id": "bf5c5b25",
   "metadata": {},
   "outputs": [
    {
     "name": "stdout",
     "output_type": "stream",
     "text": [
      "0.24001715863400197\n"
     ]
    }
   ],
   "source": [
    "print(mean_squared_error(y_test, y_pred_LSVR, squared=False))"
   ]
  },
  {
   "cell_type": "code",
   "execution_count": 99,
   "id": "ff50518a",
   "metadata": {},
   "outputs": [
    {
     "name": "stdout",
     "output_type": "stream",
     "text": [
      "4.623190719144077e-12\n"
     ]
    }
   ],
   "source": [
    "print(median_absolute_error(y_pred_LSVR,y_test))"
   ]
  },
  {
   "cell_type": "markdown",
   "id": "da469286",
   "metadata": {},
   "source": [
    "# RandomForestRegressor"
   ]
  },
  {
   "cell_type": "code",
   "execution_count": 32,
   "id": "3c72652f",
   "metadata": {},
   "outputs": [
    {
     "name": "stdout",
     "output_type": "stream",
     "text": [
      "0.05114316150324236\n"
     ]
    }
   ],
   "source": [
    "from sklearn.ensemble import RandomForestRegressor\n",
    "RFR = RandomForestRegressor(max_depth=2, random_state=0)\n",
    "RFR.fit(X_train, y_train)\n",
    "y_pred_RFR = RFR.predict(X_test)\n",
    "print(mean_squared_error(y_test, y_pred_RFR))"
   ]
  },
  {
   "cell_type": "code",
   "execution_count": 126,
   "id": "59a79385",
   "metadata": {},
   "outputs": [
    {
     "name": "stdout",
     "output_type": "stream",
     "text": [
      "0.22614853858303474\n"
     ]
    }
   ],
   "source": [
    "print(mean_squared_error(y_test, y_pred_RFR, squared=False))"
   ]
  },
  {
   "cell_type": "code",
   "execution_count": 98,
   "id": "93ce2ddc",
   "metadata": {},
   "outputs": [
    {
     "name": "stdout",
     "output_type": "stream",
     "text": [
      "0.04891968303768324\n"
     ]
    }
   ],
   "source": [
    "print(median_absolute_error(y_pred_RFR,y_test))"
   ]
  },
  {
   "cell_type": "code",
   "execution_count": 30,
   "id": "93b0ccac",
   "metadata": {},
   "outputs": [
    {
     "name": "stdout",
     "output_type": "stream",
     "text": [
      "0.04978947137220367\n"
     ]
    }
   ],
   "source": [
    "RFR2 = RandomForestRegressor(max_depth=10, random_state=0)\n",
    "RFR2.fit(X_train, y_train)\n",
    "y_pred_RFR2 = RFR2.predict(X_test)\n",
    "print(mean_squared_error(y_test, y_pred_RFR2))"
   ]
  },
  {
   "cell_type": "code",
   "execution_count": 127,
   "id": "2946152d",
   "metadata": {},
   "outputs": [
    {
     "name": "stdout",
     "output_type": "stream",
     "text": [
      "0.22313554484259937\n"
     ]
    }
   ],
   "source": [
    "print(mean_squared_error(y_test, y_pred_RFR2, squared=False))"
   ]
  },
  {
   "cell_type": "code",
   "execution_count": 100,
   "id": "1f78ffb9",
   "metadata": {},
   "outputs": [
    {
     "name": "stdout",
     "output_type": "stream",
     "text": [
      "0.0478502397957955\n"
     ]
    }
   ],
   "source": [
    "print(median_absolute_error(y_pred_RFR2,y_test))"
   ]
  },
  {
   "cell_type": "markdown",
   "id": "ed3b1ba1",
   "metadata": {},
   "source": [
    "# LogisticRegression"
   ]
  },
  {
   "cell_type": "code",
   "execution_count": 47,
   "id": "668dd391",
   "metadata": {},
   "outputs": [
    {
     "name": "stdout",
     "output_type": "stream",
     "text": [
      "0.0556979115005235\n"
     ]
    }
   ],
   "source": [
    "from sklearn.linear_model import LogisticRegression\n",
    "LoR = LogisticRegression(penalty = 'l2', max_iter = 1000000).fit(X_train, y_train)\n",
    "y_pred_LoR = LoR.predict(X_test)\n",
    "print(mean_squared_error(y_test, y_pred_LoR))"
   ]
  },
  {
   "cell_type": "code",
   "execution_count": 48,
   "id": "cd672f41",
   "metadata": {},
   "outputs": [
    {
     "data": {
      "text/plain": [
       "array([[ 0.59400508,  0.39813405,  0.71625831,  0.80448901, -0.03373686,\n",
       "         0.0358267 , -0.2382735 ,  0.13463879,  0.04676848, -0.1760618 ,\n",
       "        -0.10390918,  0.19997227,  0.78874583, -0.00735217,  0.06644749,\n",
       "         0.53682418, -0.55275717,  0.35965812, -0.05106842,  0.32874225,\n",
       "         4.26769852,  0.4118065 ,  0.70423829,  0.48997276,  0.21508208,\n",
       "         3.64166717, -0.55337622]])"
      ]
     },
     "execution_count": 48,
     "metadata": {},
     "output_type": "execute_result"
    }
   ],
   "source": [
    "LoR.coef_"
   ]
  },
  {
   "cell_type": "code",
   "execution_count": 128,
   "id": "6916475a",
   "metadata": {},
   "outputs": [
    {
     "name": "stdout",
     "output_type": "stream",
     "text": [
      "0.23600404975449785\n"
     ]
    }
   ],
   "source": [
    "print(mean_squared_error(y_test, y_pred_LoR, squared=False))"
   ]
  },
  {
   "cell_type": "code",
   "execution_count": 104,
   "id": "57b8f0db",
   "metadata": {},
   "outputs": [
    {
     "name": "stdout",
     "output_type": "stream",
     "text": [
      "0.0\n"
     ]
    }
   ],
   "source": [
    "print(median_absolute_error(y_pred_LoR,y_test))"
   ]
  },
  {
   "cell_type": "markdown",
   "id": "5dc2cca9",
   "metadata": {},
   "source": [
    "# Ridge"
   ]
  },
  {
   "cell_type": "code",
   "execution_count": 49,
   "id": "d7286c03",
   "metadata": {},
   "outputs": [
    {
     "name": "stdout",
     "output_type": "stream",
     "text": [
      "0.05077038296322136\n"
     ]
    }
   ],
   "source": [
    "from sklearn.linear_model import Ridge\n",
    "Rreg = Ridge(alpha=0.5).fit(X_train, y_train)\n",
    "y_pred_Rreg = Rreg.predict(X_test)\n",
    "print(mean_squared_error(y_test, y_pred_Rreg))"
   ]
  },
  {
   "cell_type": "code",
   "execution_count": 50,
   "id": "bd26457a",
   "metadata": {},
   "outputs": [
    {
     "data": {
      "text/plain": [
       "array([ 3.79816073e-02,  2.08696498e-02,  5.30796928e-02,  5.77321460e-02,\n",
       "       -1.79041874e-03,  1.74387207e-03, -1.18105182e-02,  7.45373860e-03,\n",
       "        2.21984159e-03, -8.73179548e-03, -5.50476315e-03,  1.06247403e-02,\n",
       "        5.21762844e-02, -3.46139540e-04,  3.34391628e-03,  3.98431287e-02,\n",
       "       -2.17668334e-02,  2.03122014e-02, -2.83014945e-03,  1.69121870e-02,\n",
       "        6.90390848e-01,  1.97008823e-02,  4.36733164e-02,  2.66064260e-02,\n",
       "        1.00264289e-02,  4.88976558e-01, -2.36084141e-02])"
      ]
     },
     "execution_count": 50,
     "metadata": {},
     "output_type": "execute_result"
    }
   ],
   "source": [
    "Rreg.coef_"
   ]
  },
  {
   "cell_type": "code",
   "execution_count": 129,
   "id": "cc3a6204",
   "metadata": {},
   "outputs": [
    {
     "name": "stdout",
     "output_type": "stream",
     "text": [
      "0.22532284163666444\n"
     ]
    }
   ],
   "source": [
    "print(mean_squared_error(y_test, y_pred_Rreg, squared=False))"
   ]
  },
  {
   "cell_type": "code",
   "execution_count": 102,
   "id": "61173fdc",
   "metadata": {},
   "outputs": [
    {
     "name": "stdout",
     "output_type": "stream",
     "text": [
      "0.04803360551568214\n"
     ]
    }
   ],
   "source": [
    "print(median_absolute_error(y_pred_Rreg,y_test))"
   ]
  },
  {
   "cell_type": "markdown",
   "id": "d00161ca",
   "metadata": {},
   "source": [
    "# XGBRegressor"
   ]
  },
  {
   "cell_type": "code",
   "execution_count": 58,
   "id": "888762f2",
   "metadata": {},
   "outputs": [
    {
     "name": "stdout",
     "output_type": "stream",
     "text": [
      "0.04980589695288331\n"
     ]
    }
   ],
   "source": [
    "import xgboost as xgb\n",
    "xgb_model = xgb.XGBRegressor(max_depth = 3,learning_rate = 0.1,n_estimators = 100, n_jobs = -1)\n",
    "xgb_model.fit(X_train, y_train)\n",
    "y_pred_xgb = xgb_model.predict(X_test)\n",
    "print(mean_squared_error(y_test, y_pred_xgb))"
   ]
  },
  {
   "cell_type": "code",
   "execution_count": 59,
   "id": "44ac605e",
   "metadata": {},
   "outputs": [
    {
     "name": "stdout",
     "output_type": "stream",
     "text": [
      "0.04963853306062021\n"
     ]
    }
   ],
   "source": [
    "import xgboost as xgb\n",
    "xgb_model = xgb.XGBRegressor(max_depth = 5,learning_rate = 0.1,n_estimators = 100, n_jobs = -1)\n",
    "xgb_model.fit(X_train, y_train)\n",
    "y_pred_xgb = xgb_model.predict(X_test)\n",
    "print(mean_squared_error(y_test, y_pred_xgb))"
   ]
  },
  {
   "cell_type": "code",
   "execution_count": 60,
   "id": "d8b9bf95",
   "metadata": {},
   "outputs": [
    {
     "name": "stdout",
     "output_type": "stream",
     "text": [
      "0.049676757810240335\n"
     ]
    }
   ],
   "source": [
    "import xgboost as xgb\n",
    "xgb_model = xgb.XGBRegressor(max_depth = 5,learning_rate = 0.1,n_estimators = 500, n_jobs = -1)\n",
    "xgb_model.fit(X_train, y_train)\n",
    "y_pred_xgb = xgb_model.predict(X_test)\n",
    "print(mean_squared_error(y_test, y_pred_xgb))"
   ]
  },
  {
   "cell_type": "code",
   "execution_count": 63,
   "id": "8ce826a4",
   "metadata": {},
   "outputs": [
    {
     "name": "stdout",
     "output_type": "stream",
     "text": [
      "0.049727643295847904\n"
     ]
    }
   ],
   "source": [
    "import xgboost as xgb\n",
    "xgb_model = xgb.XGBRegressor(max_depth = 6,learning_rate = 0.1,n_estimators = 300, n_jobs = -1)\n",
    "xgb_model.fit(X_train, y_train)\n",
    "y_pred_xgb = xgb_model.predict(X_test)\n",
    "print(mean_squared_error(y_test, y_pred_xgb))"
   ]
  },
  {
   "cell_type": "code",
   "execution_count": 66,
   "id": "2d5740e0",
   "metadata": {},
   "outputs": [
    {
     "data": {
      "text/plain": [
       "0.22299695804169145"
      ]
     },
     "execution_count": 66,
     "metadata": {},
     "output_type": "execute_result"
    }
   ],
   "source": [
    "mean_squared_error(y_test, y_pred_xgb, squared=False)"
   ]
  },
  {
   "cell_type": "code",
   "execution_count": 103,
   "id": "e4e80352",
   "metadata": {},
   "outputs": [
    {
     "name": "stdout",
     "output_type": "stream",
     "text": [
      "0.044282615184783936\n"
     ]
    }
   ],
   "source": [
    "print(median_absolute_error(y_pred_xgb,y_test))"
   ]
  }
 ],
 "metadata": {
  "kernelspec": {
   "display_name": "Python 3 (ipykernel)",
   "language": "python",
   "name": "python3"
  },
  "language_info": {
   "codemirror_mode": {
    "name": "ipython",
    "version": 3
   },
   "file_extension": ".py",
   "mimetype": "text/x-python",
   "name": "python",
   "nbconvert_exporter": "python",
   "pygments_lexer": "ipython3",
   "version": "3.9.13"
  }
 },
 "nbformat": 4,
 "nbformat_minor": 5
}
